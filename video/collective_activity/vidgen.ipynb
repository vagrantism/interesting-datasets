{
  "nbformat": 4,
  "nbformat_minor": 0,
  "metadata": {
    "colab": {
      "provenance": [],
      "authorship_tag": "ABX9TyM84FnWyuKf3a9YFsSKDcjo",
      "include_colab_link": true
    },
    "kernelspec": {
      "name": "python3",
      "display_name": "Python 3"
    },
    "language_info": {
      "name": "python"
    },
    "widgets": {
      "application/vnd.jupyter.widget-state+json": {
        "b81f48c5865541a5889e3bd7284f886d": {
          "model_module": "@jupyter-widgets/controls",
          "model_name": "HBoxModel",
          "model_module_version": "1.5.0",
          "state": {
            "_dom_classes": [],
            "_model_module": "@jupyter-widgets/controls",
            "_model_module_version": "1.5.0",
            "_model_name": "HBoxModel",
            "_view_count": null,
            "_view_module": "@jupyter-widgets/controls",
            "_view_module_version": "1.5.0",
            "_view_name": "HBoxView",
            "box_style": "",
            "children": [
              "IPY_MODEL_5f7c8f14ca9c42b598a0084f32e7e851",
              "IPY_MODEL_18f12399625e4287be37fd15971ba339",
              "IPY_MODEL_e89e49dee14b41d29ef17ea264b002cd"
            ],
            "layout": "IPY_MODEL_4b78a2a3ecfb4fa6ae6639dd8ca1a13f"
          }
        },
        "5f7c8f14ca9c42b598a0084f32e7e851": {
          "model_module": "@jupyter-widgets/controls",
          "model_name": "HTMLModel",
          "model_module_version": "1.5.0",
          "state": {
            "_dom_classes": [],
            "_model_module": "@jupyter-widgets/controls",
            "_model_module_version": "1.5.0",
            "_model_name": "HTMLModel",
            "_view_count": null,
            "_view_module": "@jupyter-widgets/controls",
            "_view_module_version": "1.5.0",
            "_view_name": "HTMLView",
            "description": "",
            "description_tooltip": null,
            "layout": "IPY_MODEL_ee1cde106e8d44eca06765d27f31bc7c",
            "placeholder": "​",
            "style": "IPY_MODEL_690a7af064784e1da0056bc5ebb6465f",
            "value": " 82%"
          }
        },
        "18f12399625e4287be37fd15971ba339": {
          "model_module": "@jupyter-widgets/controls",
          "model_name": "FloatProgressModel",
          "model_module_version": "1.5.0",
          "state": {
            "_dom_classes": [],
            "_model_module": "@jupyter-widgets/controls",
            "_model_module_version": "1.5.0",
            "_model_name": "FloatProgressModel",
            "_view_count": null,
            "_view_module": "@jupyter-widgets/controls",
            "_view_module_version": "1.5.0",
            "_view_name": "ProgressView",
            "bar_style": "",
            "description": "",
            "description_tooltip": null,
            "layout": "IPY_MODEL_8625477ea38b40beb18f74c413021020",
            "max": 44,
            "min": 0,
            "orientation": "horizontal",
            "style": "IPY_MODEL_7321ff41794b494695a3e9e0bde21c4a",
            "value": 36
          }
        },
        "e89e49dee14b41d29ef17ea264b002cd": {
          "model_module": "@jupyter-widgets/controls",
          "model_name": "HTMLModel",
          "model_module_version": "1.5.0",
          "state": {
            "_dom_classes": [],
            "_model_module": "@jupyter-widgets/controls",
            "_model_module_version": "1.5.0",
            "_model_name": "HTMLModel",
            "_view_count": null,
            "_view_module": "@jupyter-widgets/controls",
            "_view_module_version": "1.5.0",
            "_view_name": "HTMLView",
            "description": "",
            "description_tooltip": null,
            "layout": "IPY_MODEL_97dbe8c9fcd840609cf1f4a426fbb3d8",
            "placeholder": "​",
            "style": "IPY_MODEL_45a57a40026f478d9f1d8312420b9d45",
            "value": " 36/44 [11:51&lt;01:52, 14.05s/it]"
          }
        },
        "4b78a2a3ecfb4fa6ae6639dd8ca1a13f": {
          "model_module": "@jupyter-widgets/base",
          "model_name": "LayoutModel",
          "model_module_version": "1.2.0",
          "state": {
            "_model_module": "@jupyter-widgets/base",
            "_model_module_version": "1.2.0",
            "_model_name": "LayoutModel",
            "_view_count": null,
            "_view_module": "@jupyter-widgets/base",
            "_view_module_version": "1.2.0",
            "_view_name": "LayoutView",
            "align_content": null,
            "align_items": null,
            "align_self": null,
            "border": null,
            "bottom": null,
            "display": null,
            "flex": null,
            "flex_flow": null,
            "grid_area": null,
            "grid_auto_columns": null,
            "grid_auto_flow": null,
            "grid_auto_rows": null,
            "grid_column": null,
            "grid_gap": null,
            "grid_row": null,
            "grid_template_areas": null,
            "grid_template_columns": null,
            "grid_template_rows": null,
            "height": null,
            "justify_content": null,
            "justify_items": null,
            "left": null,
            "margin": null,
            "max_height": null,
            "max_width": null,
            "min_height": null,
            "min_width": null,
            "object_fit": null,
            "object_position": null,
            "order": null,
            "overflow": null,
            "overflow_x": null,
            "overflow_y": null,
            "padding": null,
            "right": null,
            "top": null,
            "visibility": null,
            "width": null
          }
        },
        "ee1cde106e8d44eca06765d27f31bc7c": {
          "model_module": "@jupyter-widgets/base",
          "model_name": "LayoutModel",
          "model_module_version": "1.2.0",
          "state": {
            "_model_module": "@jupyter-widgets/base",
            "_model_module_version": "1.2.0",
            "_model_name": "LayoutModel",
            "_view_count": null,
            "_view_module": "@jupyter-widgets/base",
            "_view_module_version": "1.2.0",
            "_view_name": "LayoutView",
            "align_content": null,
            "align_items": null,
            "align_self": null,
            "border": null,
            "bottom": null,
            "display": null,
            "flex": null,
            "flex_flow": null,
            "grid_area": null,
            "grid_auto_columns": null,
            "grid_auto_flow": null,
            "grid_auto_rows": null,
            "grid_column": null,
            "grid_gap": null,
            "grid_row": null,
            "grid_template_areas": null,
            "grid_template_columns": null,
            "grid_template_rows": null,
            "height": null,
            "justify_content": null,
            "justify_items": null,
            "left": null,
            "margin": null,
            "max_height": null,
            "max_width": null,
            "min_height": null,
            "min_width": null,
            "object_fit": null,
            "object_position": null,
            "order": null,
            "overflow": null,
            "overflow_x": null,
            "overflow_y": null,
            "padding": null,
            "right": null,
            "top": null,
            "visibility": null,
            "width": null
          }
        },
        "690a7af064784e1da0056bc5ebb6465f": {
          "model_module": "@jupyter-widgets/controls",
          "model_name": "DescriptionStyleModel",
          "model_module_version": "1.5.0",
          "state": {
            "_model_module": "@jupyter-widgets/controls",
            "_model_module_version": "1.5.0",
            "_model_name": "DescriptionStyleModel",
            "_view_count": null,
            "_view_module": "@jupyter-widgets/base",
            "_view_module_version": "1.2.0",
            "_view_name": "StyleView",
            "description_width": ""
          }
        },
        "8625477ea38b40beb18f74c413021020": {
          "model_module": "@jupyter-widgets/base",
          "model_name": "LayoutModel",
          "model_module_version": "1.2.0",
          "state": {
            "_model_module": "@jupyter-widgets/base",
            "_model_module_version": "1.2.0",
            "_model_name": "LayoutModel",
            "_view_count": null,
            "_view_module": "@jupyter-widgets/base",
            "_view_module_version": "1.2.0",
            "_view_name": "LayoutView",
            "align_content": null,
            "align_items": null,
            "align_self": null,
            "border": null,
            "bottom": null,
            "display": null,
            "flex": null,
            "flex_flow": null,
            "grid_area": null,
            "grid_auto_columns": null,
            "grid_auto_flow": null,
            "grid_auto_rows": null,
            "grid_column": null,
            "grid_gap": null,
            "grid_row": null,
            "grid_template_areas": null,
            "grid_template_columns": null,
            "grid_template_rows": null,
            "height": null,
            "justify_content": null,
            "justify_items": null,
            "left": null,
            "margin": null,
            "max_height": null,
            "max_width": null,
            "min_height": null,
            "min_width": null,
            "object_fit": null,
            "object_position": null,
            "order": null,
            "overflow": null,
            "overflow_x": null,
            "overflow_y": null,
            "padding": null,
            "right": null,
            "top": null,
            "visibility": null,
            "width": null
          }
        },
        "7321ff41794b494695a3e9e0bde21c4a": {
          "model_module": "@jupyter-widgets/controls",
          "model_name": "ProgressStyleModel",
          "model_module_version": "1.5.0",
          "state": {
            "_model_module": "@jupyter-widgets/controls",
            "_model_module_version": "1.5.0",
            "_model_name": "ProgressStyleModel",
            "_view_count": null,
            "_view_module": "@jupyter-widgets/base",
            "_view_module_version": "1.2.0",
            "_view_name": "StyleView",
            "bar_color": null,
            "description_width": ""
          }
        },
        "97dbe8c9fcd840609cf1f4a426fbb3d8": {
          "model_module": "@jupyter-widgets/base",
          "model_name": "LayoutModel",
          "model_module_version": "1.2.0",
          "state": {
            "_model_module": "@jupyter-widgets/base",
            "_model_module_version": "1.2.0",
            "_model_name": "LayoutModel",
            "_view_count": null,
            "_view_module": "@jupyter-widgets/base",
            "_view_module_version": "1.2.0",
            "_view_name": "LayoutView",
            "align_content": null,
            "align_items": null,
            "align_self": null,
            "border": null,
            "bottom": null,
            "display": null,
            "flex": null,
            "flex_flow": null,
            "grid_area": null,
            "grid_auto_columns": null,
            "grid_auto_flow": null,
            "grid_auto_rows": null,
            "grid_column": null,
            "grid_gap": null,
            "grid_row": null,
            "grid_template_areas": null,
            "grid_template_columns": null,
            "grid_template_rows": null,
            "height": null,
            "justify_content": null,
            "justify_items": null,
            "left": null,
            "margin": null,
            "max_height": null,
            "max_width": null,
            "min_height": null,
            "min_width": null,
            "object_fit": null,
            "object_position": null,
            "order": null,
            "overflow": null,
            "overflow_x": null,
            "overflow_y": null,
            "padding": null,
            "right": null,
            "top": null,
            "visibility": null,
            "width": null
          }
        },
        "45a57a40026f478d9f1d8312420b9d45": {
          "model_module": "@jupyter-widgets/controls",
          "model_name": "DescriptionStyleModel",
          "model_module_version": "1.5.0",
          "state": {
            "_model_module": "@jupyter-widgets/controls",
            "_model_module_version": "1.5.0",
            "_model_name": "DescriptionStyleModel",
            "_view_count": null,
            "_view_module": "@jupyter-widgets/base",
            "_view_module_version": "1.2.0",
            "_view_name": "StyleView",
            "description_width": ""
          }
        }
      }
    }
  },
  "cells": [
    {
      "cell_type": "markdown",
      "metadata": {
        "id": "view-in-github",
        "colab_type": "text"
      },
      "source": [
        "<a href=\"https://colab.research.google.com/github/vagrantism/interesting-datasets/blob/main/video/collective_activity/vidgen.ipynb\" target=\"_parent\"><img src=\"https://colab.research.google.com/assets/colab-badge.svg\" alt=\"Open In Colab\"/></a>"
      ]
    },
    {
      "cell_type": "markdown",
      "source": [
        "Converting Image data from https://cvgl.stanford.edu/projects/collective/collectiveActivity.html into videos."
      ],
      "metadata": {
        "id": "WKYs1gJe8wfa"
      }
    },
    {
      "cell_type": "code",
      "source": [
        "#@title Installing Dependencies\n",
        "!sudo apt-get -qq install ffmpeg x264 libx264-dev"
      ],
      "metadata": {
        "colab": {
          "base_uri": "https://localhost:8080/"
        },
        "id": "_J2qgfSu_R_t",
        "outputId": "e02e6a7b-9312-48cd-817e-341ff3ad8fa6"
      },
      "execution_count": 1,
      "outputs": [
        {
          "output_type": "stream",
          "name": "stdout",
          "text": [
            "debconf: unable to initialize frontend: Dialog\n",
            "debconf: (No usable dialog-like program is installed, so the dialog based frontend cannot be used. at /usr/share/perl5/Debconf/FrontEnd/Dialog.pm line 76, <> line 4.)\n",
            "debconf: falling back to frontend: Readline\n",
            "debconf: unable to initialize frontend: Readline\n",
            "debconf: (This frontend requires a controlling tty.)\n",
            "debconf: falling back to frontend: Teletype\n",
            "dpkg-preconfigure: unable to re-open stdin: \n",
            "Selecting previously unselected package libffms2-4:amd64.\n",
            "(Reading database ... 129499 files and directories currently installed.)\n",
            "Preparing to unpack .../libffms2-4_2.23-4build1_amd64.deb ...\n",
            "Unpacking libffms2-4:amd64 (2.23-4build1) ...\n",
            "Selecting previously unselected package libgpac4:amd64.\n",
            "Preparing to unpack .../libgpac4_0.5.2-426-gc5ad4e4+dfsg5-5_amd64.deb ...\n",
            "Unpacking libgpac4:amd64 (0.5.2-426-gc5ad4e4+dfsg5-5) ...\n",
            "Selecting previously unselected package libx264-dev:amd64.\n",
            "Preparing to unpack .../libx264-dev_2%3a0.155.2917+git0a84d98-2_amd64.deb ...\n",
            "Unpacking libx264-dev:amd64 (2:0.155.2917+git0a84d98-2) ...\n",
            "Selecting previously unselected package x264.\n",
            "Preparing to unpack .../x264_2%3a0.155.2917+git0a84d98-2_amd64.deb ...\n",
            "Unpacking x264 (2:0.155.2917+git0a84d98-2) ...\n",
            "Setting up libx264-dev:amd64 (2:0.155.2917+git0a84d98-2) ...\n",
            "Setting up libffms2-4:amd64 (2.23-4build1) ...\n",
            "Setting up libgpac4:amd64 (0.5.2-426-gc5ad4e4+dfsg5-5) ...\n",
            "Setting up x264 (2:0.155.2917+git0a84d98-2) ...\n",
            "Processing triggers for libc-bin (2.31-0ubuntu9.9) ...\n",
            "Processing triggers for man-db (2.9.1-1) ...\n"
          ]
        }
      ]
    },
    {
      "cell_type": "code",
      "source": [
        "#@title Fetching the image dataset\n",
        "!wget -q http://cvgl.stanford.edu/data/ActivityDataset.zip\n",
        "!unzip -q ActivityDataset.zip -d ActivityDataset"
      ],
      "metadata": {
        "id": "aR_PxE5P9kbn"
      },
      "execution_count": 2,
      "outputs": []
    },
    {
      "cell_type": "code",
      "execution_count": null,
      "metadata": {
        "colab": {
          "base_uri": "https://localhost:8080/",
          "height": 49,
          "referenced_widgets": [
            "b81f48c5865541a5889e3bd7284f886d",
            "5f7c8f14ca9c42b598a0084f32e7e851",
            "18f12399625e4287be37fd15971ba339",
            "e89e49dee14b41d29ef17ea264b002cd",
            "4b78a2a3ecfb4fa6ae6639dd8ca1a13f",
            "ee1cde106e8d44eca06765d27f31bc7c",
            "690a7af064784e1da0056bc5ebb6465f",
            "8625477ea38b40beb18f74c413021020",
            "7321ff41794b494695a3e9e0bde21c4a",
            "97dbe8c9fcd840609cf1f4a426fbb3d8",
            "45a57a40026f478d9f1d8312420b9d45"
          ]
        },
        "id": "O5U3-07k8qS7",
        "outputId": "f8c1cfe2-3d9e-4a24-8599-a0a8b0106e50"
      },
      "outputs": [
        {
          "data": {
            "application/vnd.jupyter.widget-view+json": {
              "model_id": "b81f48c5865541a5889e3bd7284f886d",
              "version_major": 2,
              "version_minor": 0
            },
            "text/plain": [
              "  0%|          | 0/44 [00:00<?, ?it/s]"
            ]
          },
          "metadata": {},
          "output_type": "display_data"
        }
      ],
      "source": [
        "#@title Default title text\n",
        "frame_rate = 24 #@param {type:\"slider\", min:1, max:60, step:1}\n",
        "import os\n",
        "import cv2\n",
        "import glob\n",
        "from tqdm.auto import tqdm\n",
        "\n",
        "img_input_path = 'ActivityDataset'\n",
        "vid_output_path = 'ActivityDatasetVideos'\n",
        "os.makedirs(vid_output_path)\n",
        "for img_path in tqdm(glob.glob(img_input_path+'/*')):\n",
        "  vid_path = img_path.replace(img_input_path, vid_output_path)\n",
        "  out_vid = cv2.VideoWriter(\n",
        "    vid_path+'.mp4',\n",
        "    cv2.VideoWriter_fourcc(*'mp4v'),\n",
        "    frame_rate,\n",
        "    (720,480,)\n",
        "  )\n",
        "  for i in sorted(glob.glob(img_path + '/*.jpg')):\n",
        "    out_vid.write(cv2.imread(i))\n",
        "  out_vid.release()\n",
        "  os.system(f\"ffmpeg -i {vid_path}.mp4 -vcodec libx264 {vid_path}_h264.mp4\")"
      ]
    }
  ]
}